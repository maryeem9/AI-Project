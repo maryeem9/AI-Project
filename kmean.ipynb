{
 "cells": [
  {
   "cell_type": "code",
   "execution_count": null,
   "metadata": {},
   "outputs": [],
   "source": [
    "import pandas as pd\n",
    "from sklearn.feature_extraction.text import TfidfVectorizer\n",
    "from sklearn.cluster import KMeans\n",
    "import numpy as np"
   ]
  },
  {
   "cell_type": "code",
   "execution_count": null,
   "metadata": {},
   "outputs": [],
   "source": [
    "df = pd.read_excel('C:/Users/DELL/Desktop/university/BSCS 6TH/AI/sportsDataset.xlsx')"
   ]
  },
  {
   "cell_type": "code",
   "execution_count": null,
   "metadata": {},
   "outputs": [],
   "source": [
    "vectorizer = TfidfVectorizer(stop_words='english', max_features=5000)\n",
    "X = vectorizer.fit_transform(df['Title']).toarray()"
   ]
  },
  {
   "cell_type": "code",
   "execution_count": null,
   "metadata": {},
   "outputs": [],
   "source": [
    "kmeans = KMeans(n_clusters=2, random_state=42)  # Example with 2 clusters\n",
    "kmeans.fit(X)\n",
    "cluster_labels = kmeans.labels_"
   ]
  },
  {
   "cell_type": "code",
   "execution_count": null,
   "metadata": {},
   "outputs": [],
   "source": [
    "# Function to predict source based on new title\n",
    "def predict_source_from_title(title):\n",
    "    title_tfidf = vectorizer.transform([title]).toarray()\n",
    "    cluster_label = kmeans.predict(title_tfidf)[0]\n",
    "    # Assume you have some logic to determine source based on cluster label\n",
    "    # For example, if cluster_label == 0, predict 'real'; if cluster_label == 1, predict 'ai'\n",
    "    predicted_source = 'real' if cluster_label == 0 else 'ai'\n",
    "    return predicted_source\n"
   ]
  },
  {
   "cell_type": "code",
   "execution_count": null,
   "metadata": {},
   "outputs": [],
   "source": [
    "# Predict for a new title\n",
    "new_title =\"Local Team Clinches Championship Title in Thrilling Last-Minute Victory\"\n",
    "predicted_source = predict_source_from_title(new_title)\n",
    "print(f\"The title '{new_title}' is predicted to be: {predicted_source}\")"
   ]
  }
 ],
 "metadata": {
  "language_info": {
   "name": "python"
  }
 },
 "nbformat": 4,
 "nbformat_minor": 2
}
